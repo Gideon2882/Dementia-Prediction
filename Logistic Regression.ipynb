{
 "cells": [
  {
   "cell_type": "markdown",
   "id": "9fe27eda",
   "metadata": {},
   "source": [
    "# Import necessary libraries"
   ]
  },
  {
   "cell_type": "code",
   "execution_count": 2,
   "id": "b405edc2",
   "metadata": {},
   "outputs": [],
   "source": [
    "import numpy as np\n",
    "import pandas as pd\n",
    "import seaborn as sb\n",
    "import matplotlib.pyplot as plt\n",
    "sb.set()\n",
    "\n",
    "from sklearn.linear_model import LogisticRegression\n",
    "from sklearn.model_selection import train_test_split\n",
    "from sklearn.metrics import accuracy_score, classification_report, confusion_matrix\n",
    "import statsmodels.api as sm\n",
    "from sklearn.preprocessing import StandardScaler"
   ]
  },
  {
   "cell_type": "markdown",
   "id": "bc2428e8",
   "metadata": {},
   "source": [
    "## Import Cleaned data"
   ]
  },
  {
   "cell_type": "code",
   "execution_count": 3,
   "id": "49bcca9c",
   "metadata": {},
   "outputs": [
    {
     "data": {
      "text/html": [
       "<div>\n",
       "<style scoped>\n",
       "    .dataframe tbody tr th:only-of-type {\n",
       "        vertical-align: middle;\n",
       "    }\n",
       "\n",
       "    .dataframe tbody tr th {\n",
       "        vertical-align: top;\n",
       "    }\n",
       "\n",
       "    .dataframe thead th {\n",
       "        text-align: right;\n",
       "    }\n",
       "</style>\n",
       "<table border=\"1\" class=\"dataframe\">\n",
       "  <thead>\n",
       "    <tr style=\"text-align: right;\">\n",
       "      <th></th>\n",
       "      <th>Diabetic</th>\n",
       "      <th>AlcoholLevel</th>\n",
       "      <th>HeartRate</th>\n",
       "      <th>BloodOxygenLevel</th>\n",
       "      <th>BodyTemperature</th>\n",
       "      <th>Weight</th>\n",
       "      <th>MRI_Delay</th>\n",
       "      <th>Age</th>\n",
       "      <th>Education_Level</th>\n",
       "      <th>Dominant_Hand</th>\n",
       "      <th>...</th>\n",
       "      <th>Family_History</th>\n",
       "      <th>Smoking_Status</th>\n",
       "      <th>APOE_ε4</th>\n",
       "      <th>Physical_Activity</th>\n",
       "      <th>Depression_Status</th>\n",
       "      <th>Cognitive_Test_Scores</th>\n",
       "      <th>Nutrition_Diet</th>\n",
       "      <th>Sleep_Quality</th>\n",
       "      <th>Chronic_Health_Conditions</th>\n",
       "      <th>Dementia</th>\n",
       "    </tr>\n",
       "  </thead>\n",
       "  <tbody>\n",
       "    <tr>\n",
       "      <th>0</th>\n",
       "      <td>True</td>\n",
       "      <td>0.084974</td>\n",
       "      <td>98</td>\n",
       "      <td>96.230743</td>\n",
       "      <td>36.224852</td>\n",
       "      <td>57.563978</td>\n",
       "      <td>36.421028</td>\n",
       "      <td>60</td>\n",
       "      <td>2</td>\n",
       "      <td>Left</td>\n",
       "      <td>...</td>\n",
       "      <td>False</td>\n",
       "      <td>2</td>\n",
       "      <td>False</td>\n",
       "      <td>1</td>\n",
       "      <td>True</td>\n",
       "      <td>10</td>\n",
       "      <td>Low-Carb Diet</td>\n",
       "      <td>False</td>\n",
       "      <td>True</td>\n",
       "      <td>0</td>\n",
       "    </tr>\n",
       "    <tr>\n",
       "      <th>1</th>\n",
       "      <td>False</td>\n",
       "      <td>0.016973</td>\n",
       "      <td>78</td>\n",
       "      <td>93.032122</td>\n",
       "      <td>36.183874</td>\n",
       "      <td>56.832335</td>\n",
       "      <td>31.157633</td>\n",
       "      <td>61</td>\n",
       "      <td>3</td>\n",
       "      <td>Right</td>\n",
       "      <td>...</td>\n",
       "      <td>False</td>\n",
       "      <td>1</td>\n",
       "      <td>True</td>\n",
       "      <td>3</td>\n",
       "      <td>True</td>\n",
       "      <td>1</td>\n",
       "      <td>Low-Carb Diet</td>\n",
       "      <td>False</td>\n",
       "      <td>True</td>\n",
       "      <td>1</td>\n",
       "    </tr>\n",
       "    <tr>\n",
       "      <th>2</th>\n",
       "      <td>False</td>\n",
       "      <td>0.009000</td>\n",
       "      <td>89</td>\n",
       "      <td>93.566504</td>\n",
       "      <td>37.326321</td>\n",
       "      <td>59.759066</td>\n",
       "      <td>37.640435</td>\n",
       "      <td>69</td>\n",
       "      <td>2</td>\n",
       "      <td>Right</td>\n",
       "      <td>...</td>\n",
       "      <td>True</td>\n",
       "      <td>1</td>\n",
       "      <td>False</td>\n",
       "      <td>3</td>\n",
       "      <td>True</td>\n",
       "      <td>8</td>\n",
       "      <td>Mediterranean Diet</td>\n",
       "      <td>False</td>\n",
       "      <td>True</td>\n",
       "      <td>0</td>\n",
       "    </tr>\n",
       "    <tr>\n",
       "      <th>3</th>\n",
       "      <td>False</td>\n",
       "      <td>0.086437</td>\n",
       "      <td>60</td>\n",
       "      <td>93.906510</td>\n",
       "      <td>37.030620</td>\n",
       "      <td>58.266471</td>\n",
       "      <td>50.673992</td>\n",
       "      <td>78</td>\n",
       "      <td>3</td>\n",
       "      <td>Left</td>\n",
       "      <td>...</td>\n",
       "      <td>True</td>\n",
       "      <td>0</td>\n",
       "      <td>False</td>\n",
       "      <td>2</td>\n",
       "      <td>True</td>\n",
       "      <td>5</td>\n",
       "      <td>Balanced Diet</td>\n",
       "      <td>False</td>\n",
       "      <td>True</td>\n",
       "      <td>1</td>\n",
       "    </tr>\n",
       "    <tr>\n",
       "      <th>4</th>\n",
       "      <td>True</td>\n",
       "      <td>0.150747</td>\n",
       "      <td>67</td>\n",
       "      <td>97.508994</td>\n",
       "      <td>36.062121</td>\n",
       "      <td>67.705027</td>\n",
       "      <td>27.810601</td>\n",
       "      <td>77</td>\n",
       "      <td>3</td>\n",
       "      <td>Right</td>\n",
       "      <td>...</td>\n",
       "      <td>True</td>\n",
       "      <td>0</td>\n",
       "      <td>True</td>\n",
       "      <td>2</td>\n",
       "      <td>True</td>\n",
       "      <td>0</td>\n",
       "      <td>Low-Carb Diet</td>\n",
       "      <td>True</td>\n",
       "      <td>True</td>\n",
       "      <td>1</td>\n",
       "    </tr>\n",
       "  </tbody>\n",
       "</table>\n",
       "<p>5 rows × 21 columns</p>\n",
       "</div>"
      ],
      "text/plain": [
       "   Diabetic  AlcoholLevel  HeartRate  BloodOxygenLevel  BodyTemperature  \\\n",
       "0      True      0.084974         98         96.230743        36.224852   \n",
       "1     False      0.016973         78         93.032122        36.183874   \n",
       "2     False      0.009000         89         93.566504        37.326321   \n",
       "3     False      0.086437         60         93.906510        37.030620   \n",
       "4      True      0.150747         67         97.508994        36.062121   \n",
       "\n",
       "      Weight  MRI_Delay  Age  Education_Level Dominant_Hand  ...  \\\n",
       "0  57.563978  36.421028   60                2          Left  ...   \n",
       "1  56.832335  31.157633   61                3         Right  ...   \n",
       "2  59.759066  37.640435   69                2         Right  ...   \n",
       "3  58.266471  50.673992   78                3          Left  ...   \n",
       "4  67.705027  27.810601   77                3         Right  ...   \n",
       "\n",
       "  Family_History  Smoking_Status  APOE_ε4  Physical_Activity  \\\n",
       "0          False               2    False                  1   \n",
       "1          False               1     True                  3   \n",
       "2           True               1    False                  3   \n",
       "3           True               0    False                  2   \n",
       "4           True               0     True                  2   \n",
       "\n",
       "   Depression_Status  Cognitive_Test_Scores      Nutrition_Diet Sleep_Quality  \\\n",
       "0               True                     10       Low-Carb Diet         False   \n",
       "1               True                      1       Low-Carb Diet         False   \n",
       "2               True                      8  Mediterranean Diet         False   \n",
       "3               True                      5       Balanced Diet         False   \n",
       "4               True                      0       Low-Carb Diet          True   \n",
       "\n",
       "   Chronic_Health_Conditions  Dementia  \n",
       "0                       True         0  \n",
       "1                       True         1  \n",
       "2                       True         0  \n",
       "3                       True         1  \n",
       "4                       True         1  \n",
       "\n",
       "[5 rows x 21 columns]"
      ]
     },
     "execution_count": 3,
     "metadata": {},
     "output_type": "execute_result"
    }
   ],
   "source": [
    "# Importing latest cleaned data\n",
    "data = pd.read_csv('data/dementia_patients_cleaned_2_After EDA.csv')\n",
    "data.head(5)"
   ]
  },
  {
   "cell_type": "code",
   "execution_count": 4,
   "id": "980fd6ae",
   "metadata": {},
   "outputs": [
    {
     "name": "stdout",
     "output_type": "stream",
     "text": [
      "\n",
      "Numerical and Scale Data Combined:\n",
      "   HeartRate  BloodOxygenLevel     Weight  MRI_Delay  Age  Education_Level  \\\n",
      "0         98         96.230743  57.563978  36.421028   60                2   \n",
      "1         78         93.032122  56.832335  31.157633   61                3   \n",
      "2         89         93.566504  59.759066  37.640435   69                2   \n",
      "3         60         93.906510  58.266471  50.673992   78                3   \n",
      "4         67         97.508994  67.705027  27.810601   77                3   \n",
      "\n",
      "   Smoking_Status  Physical_Activity  Cognitive_Test_Scores  \n",
      "0               2                  1                     10  \n",
      "1               1                  3                      1  \n",
      "2               1                  3                      8  \n",
      "3               0                  2                      5  \n",
      "4               0                  2                      0  \n",
      "\n",
      "Predictor Data (Numerical, Scale, and Boolean Combined):\n",
      "   HeartRate  BloodOxygenLevel     Weight  MRI_Delay  Age  Education_Level  \\\n",
      "0         98         96.230743  57.563978  36.421028   60                2   \n",
      "1         78         93.032122  56.832335  31.157633   61                3   \n",
      "2         89         93.566504  59.759066  37.640435   69                2   \n",
      "3         60         93.906510  58.266471  50.673992   78                3   \n",
      "4         67         97.508994  67.705027  27.810601   77                3   \n",
      "\n",
      "   Smoking_Status  Physical_Activity  Cognitive_Test_Scores  Diabetic  \\\n",
      "0               2                  1                     10      True   \n",
      "1               1                  3                      1     False   \n",
      "2               1                  3                      8     False   \n",
      "3               0                  2                      5     False   \n",
      "4               0                  2                      0      True   \n",
      "\n",
      "   Family_History  APOE_ε4  Depression_Status  Sleep_Quality  \\\n",
      "0           False    False               True          False   \n",
      "1           False     True               True          False   \n",
      "2            True    False               True          False   \n",
      "3            True    False               True          False   \n",
      "4            True     True               True           True   \n",
      "\n",
      "   Chronic_Health_Conditions  \n",
      "0                       True  \n",
      "1                       True  \n",
      "2                       True  \n",
      "3                       True  \n",
      "4                       True  \n"
     ]
    }
   ],
   "source": [
    "# This code prepares the data for logistic regression by selecting specific features, scaling the numerical features,\n",
    "# and combining the numerical and boolean features into a single DataFrame. \n",
    "\n",
    "# It also selects the target variable for prediction.\n",
    "\n",
    "# The numerical features are standardized using StandardScaler from scikit-learn. Finally, the code prints the first few rows\n",
    "# of the prepared data for inspection.\n",
    "\n",
    "scaler = StandardScaler()\n",
    "data_numbers = data[['HeartRate', 'BloodOxygenLevel', 'Weight', 'MRI_Delay', 'Age']]\n",
    "data_numberscale = data[['Education_Level','Smoking_Status','Physical_Activity','Cognitive_Test_Scores']]\n",
    "data_boolean = data[['Diabetic','Family_History','APOE_ε4','Depression_Status','Sleep_Quality','Chronic_Health_Conditions']]\n",
    "data_dementia = data['Dementia']\n",
    "\n",
    "data_numerical = pd.concat([data_numbers,data_numberscale],axis = 1)\n",
    "data_predictor = pd.concat([data_numerical,data_boolean], axis = 1)\n",
    "\n",
    "print(\"\\nNumerical and Scale Data Combined:\")\n",
    "print(data_numerical.head())\n",
    "print(\"\\nPredictor Data (Numerical, Scale, and Boolean Combined):\")\n",
    "print(data_predictor.head())"
   ]
  },
  {
   "cell_type": "markdown",
   "id": "fef1d4fb",
   "metadata": {},
   "source": [
    "## Random Sampling"
   ]
  },
  {
   "cell_type": "code",
   "execution_count": 4,
   "id": "726b40d5",
   "metadata": {},
   "outputs": [],
   "source": [
    "# Split the selected_features dataframe into predictors and response\n",
    "X = data_predictor\n",
    "y = data_dementia\n",
    "\n",
    "# Split the dataset into 70% train and 30% test set\n",
    "# Set random_state for reproducibility\n",
    "X_train, X_test, y_train, y_test = train_test_split(X, y, train_size=0.7, random_state=42)"
   ]
  },
  {
   "cell_type": "code",
   "execution_count": 5,
   "id": "7c5c9385",
   "metadata": {},
   "outputs": [
    {
     "name": "stdout",
     "output_type": "stream",
     "text": [
      "Dementia vs Non-Dementia Train Set Proportion\n",
      "329 : 371\n"
     ]
    }
   ],
   "source": [
    "print(\"Dementia vs Non-Dementia Train Set Proportion\")\n",
    "print(y_train.value_counts()[1], ':', y_train.value_counts()[0])"
   ]
  },
  {
   "cell_type": "code",
   "execution_count": 6,
   "id": "84ac3c03",
   "metadata": {},
   "outputs": [
    {
     "name": "stdout",
     "output_type": "stream",
     "text": [
      "The overall classification accuracy \t\t:  0.99\n"
     ]
    }
   ],
   "source": [
    "X_train_scaled = scaler.fit_transform(X_train)\n",
    "X_test_scaled = scaler.transform(X_test)  \n",
    "\n",
    "#Perform the logistics regression\n",
    "logreg1 = LogisticRegression(solver='liblinear')\n",
    " \n",
    "#Fit the data\n",
    "logreg1.fit(X_train_scaled,y_train)\n",
    "\n",
    "#Print out the mean acuuracy\n",
    "print(\"The overall classification accuracy \\t\\t: \", logreg1.score(X_test_scaled,y_test))"
   ]
  },
  {
   "cell_type": "code",
   "execution_count": 7,
   "id": "04d68c68",
   "metadata": {},
   "outputs": [],
   "source": [
    "def visualisation(table, y_true, y_pred, title):\n",
    "    \n",
    "    # Calculate confusion matrix and metrics\n",
    "    cf = confusion_matrix(y_true, y_pred)\n",
    "    accuracy = np.trace(cf) / float(np.sum(cf))\n",
    "\n",
    "    if sum(cf[:, 1]) == 0:\n",
    "        precision = 0.0\n",
    "    else:\n",
    "        precision = cf[1, 1] / sum(cf[:, 1])\n",
    "\n",
    "    if sum(cf[1, :]) == 0:\n",
    "        recall = 0.0\n",
    "    else:\n",
    "        recall = cf[1, 1] / sum(cf[1, :])\n",
    "\n",
    "    if (precision + recall) == 0:\n",
    "        f1_score = 0.0\n",
    "    else:\n",
    "        f1_score = 2 * precision * recall / (precision + recall)\n",
    "\n",
    "    stats_text = \"\\n\\nAccuracy={:0.3f}\\nPrecision={:0.3f}\\nRecall={:0.3f}\\nF1 Score={:0.3f}\".format(\n",
    "        accuracy, precision, recall, f1_score)\n",
    "\n",
    "    # Plot confusion matrix\n",
    "    plt.figure(figsize=(8, 8))\n",
    "    sb.heatmap(cf, fmt='.0f', annot=True)\n",
    "    plt.xlabel('Predicted' + stats_text)\n",
    "    plt.ylabel('Actual')\n",
    "    plt.title(title)\n",
    "\n",
    "    # Add metrics to table\n",
    "    metrics = pd.DataFrame([[accuracy, precision, recall, f1_score]])\n",
    "    table = pd.concat([table, metrics], axis=1)\n",
    "\n",
    "    return table\n"
   ]
  },
  {
   "cell_type": "code",
   "execution_count": 8,
   "id": "b92cf0ee",
   "metadata": {},
   "outputs": [],
   "source": [
    "table1 = pd.DataFrame()\n",
    "table2 = pd.DataFrame()"
   ]
  },
  {
   "cell_type": "code",
   "execution_count": 9,
   "id": "24b9e4f1",
   "metadata": {},
   "outputs": [
    {
     "data": {
      "image/png": "[encoded data removed]",
      "text/plain": [
       "<Figure size 800x800 with 2 Axes>"
      ]
     },
     "metadata": {},
     "output_type": "display_data"
    },
    {
     "data": {
      "image/png": "[encoded data removed]",
      "text/plain": [
       "<Figure size 800x800 with 2 Axes>"
      ]
     },
     "metadata": {},
     "output_type": "display_data"
    }
   ],
   "source": [
    "#Predict the data\n",
    "y_train_pred = logreg1.predict(X_train_scaled)\n",
    "y_test_pred = logreg1.predict(X_test_scaled)\n",
    "\n",
    "#Visualizing the data\n",
    "table1 = visualisation(table1,y_train,y_train_pred, title = 'Random Sampling (TRAIN)')\n",
    "table2 = visualisation(table2,y_test,y_test_pred, title = 'Random Sampling (TEST)')"
   ]
  },
  {
   "cell_type": "raw",
   "id": "c477a0f3",
   "metadata": {},
   "source": [
    "From our test set, this model proved to be highly effective in solving our problem (detecting dementia).\n",
    "\n",
    "To determine the effectiveness of our model, the most important metrics to consider are recall and precision. \n",
    "\n",
    "Recall is crucial in this context because it measures the ability of the model to capture all positive instances of dementia (true positives) out of all actual positive instances.\n",
    "\n",
    "Precision is important as it focuses on minimizing false positives.\n",
    "\n",
    "The high rate of recall (0.981) and precision (1.00) indicates that our model is successful."
   ]
  },
  {
   "cell_type": "markdown",
   "id": "0043f08d",
   "metadata": {},
   "source": [
    "### We are curious to know what significance do different variables has in our model hence we decided to find their coefficients"
   ]
  },
  {
   "cell_type": "code",
   "execution_count": 10,
   "id": "be9cc0f0",
   "metadata": {},
   "outputs": [
    {
     "name": "stdout",
     "output_type": "stream",
     "text": [
      "Coefficients: [ 0.03879285 -0.21813623 -0.08156359 -0.11070899 -0.09553588 -0.01220953\n",
      " -0.19711869 -0.05577766 -7.01516499 -0.06603025  0.09377288  0.5060029\n",
      "  0.         -0.11099406  0.        ]\n",
      "Intercept: 1.4359059480239857\n"
     ]
    }
   ],
   "source": [
    "#Find out the significance of different variables in the model\n",
    "\n",
    "coefficients = logreg1.coef_[0]\n",
    "intercept = logreg1.intercept_[0]\n",
    "print(\"Coefficients:\", coefficients)\n",
    "print(\"Intercept:\", intercept)"
   ]
  },
  {
   "cell_type": "raw",
   "id": "7dcb44d5",
   "metadata": {},
   "source": [
    "From the coefficients of Logistic Regression equation, we can see that the tenth variable in the equation seems to be the most significant in the equation with a coefficient of around -7. Compared to the other variables coefficients, its coefficient is about 10-100 magnitude higher than other variables. This indicates that a change in the tenth variable(Cognitive_Test_Scores) will have a greater effect on the probability of whether Dementia is present in a patient.\n",
    "\n",
    "As the coefficient sign of the variable is negative, it indicates that a higher test score on Cognitive_Test_Score would indicate a lower probability of having Dementia.\n",
    "\n",
    "In other words, A one-unit increase in Cognitive_Test_Scores decreases the odds ratio of having Dementia versus not having Dementia by a factor of e^-7\n",
    "or about 0.0009 which means that for an increase in Cognitive_Test_Scores, the probability of 1 person having Dementia is reduced dramatically."
   ]
  },
  {
   "cell_type": "markdown",
   "id": "96f8038f",
   "metadata": {},
   "source": [
    "### We then decided to implement another model without 'Cognitive_Test_Scores' and see whether the model is still efficient in solving our problem (detecting dementia)."
   ]
  }
 ],
 "metadata": {
  "kernelspec": {
   "display_name": "Python 3 (ipykernel)",
   "language": "python",
   "name": "python3"
  },
  "language_info": {
   "codemirror_mode": {
    "name": "ipython",
    "version": 3
   },
   "file_extension": ".py",
   "mimetype": "text/x-python",
   "name": "python",
   "nbconvert_exporter": "python",
   "pygments_lexer": "ipython3",
   "version": "3.11.5"
  }
 },
 "nbformat": 4,
 "nbformat_minor": 5
}
